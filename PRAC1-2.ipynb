{
 "cells": [
  {
   "cell_type": "markdown",
   "id": "c828a343",
   "metadata": {},
   "source": [
    "<div style=\"width: 100%; clear: both;\">\n",
    "<div style=\"float: left; width: 50%;\">\n",
    "<img src=\"http://www.uoc.edu/portal/_resources/common/imatges/marca_UOC/UOC_Masterbrand.jpg\", align=\"left\">\n",
    "</div>\n",
    "<div style=\"float: right; width: 50%;\">\n",
    "<p style=\"margin: 0; padding-top: 22px; text-align:right;\">M2.859 · Visualización de datos · PEC2</p>\n",
    "<p style=\"margin: 0; text-align:right;\">2021-2 · Máster universitario en Ciencia de datos (Data science)</p>\n",
    "<p style=\"margin: 0; text-align:right; padding-button: 100px;\">Estudios de Informática, Multimedia y Telecomunicación</p>\n",
    "</div>\n",
    "</div>\n",
    "<div style=\"width:100%;\">&nbsp;</div>\n",
    "\n",
    "\n",
    "# Visualización PRAC 1 & 2\n",
    "\n",
    "<div class=\"alert alert-block alert-info\">\n",
    "<strong>Nombre y apellidos: Pablo Martínez Pavón</strong>\n",
    "</div>\n",
    "\n",
    "Esta actividad, primera parte de la práctica final, consiste en la selección por parte del estudiante de un conjunto de datos de su interés que será usado en el proyecto de creación de la visualización de datos, de acuerdo con unos criterios establecidos. Básicamente, la temática es libre, pero se valorarán los aspectos siguientes:"
   ]
  },
  {
   "cell_type": "code",
   "execution_count": 3,
   "id": "14058c7c",
   "metadata": {},
   "outputs": [],
   "source": [
    "import pandas as pd"
   ]
  },
  {
   "cell_type": "markdown",
   "id": "9716a50f",
   "metadata": {},
   "source": [
    "## 1. Justificad brevemente vuestra selección, ya sea por motivos personales o profesionales. [10%]\n",
    "\n",
    "De partida, he valorado diferentes temas de mi interés (fundamentalmente personal) de los que no me ha sido posible encontrar datasets completos y que cumplan con los requisitos establecidos de dimensiones, características, etc.\n",
    "\n",
    "Entre otros:\n",
    "\n",
    "- **Análisis de consumo energético, a partir de los datos de REE (ESIOS) y OMIE.**\n",
    "    - En este caso se pueden lograr todos los datos, sin embargo, requeriría mucho tiempo el combinar las fuentes de datos para lograr un dataset. Esto no parece el objetivo de la presente asignatura.\n",
    "    - Además, fundamentalmente se trataría de datos cuantitativos.\n",
    "    - Estructura que se había previsto:\n",
    "![alt text](Imagen1.jpg \"Ejemplo\")\n",
    "    - Posibles fuentes:\n",
    "        - [REE-ESIOS. Resumen general](https://www.esios.ree.es/es?locale=es)\n",
    "        - [REE-ESIOS. Demanda real diaria por hora](https://www.esios.ree.es/es/analisis/1293?vis=1&start_date=01-04-2021T00%3A00&end_date=01-04-2022T23%3A50&compare_start_date=31-03-2021T00%3A00&groupby=hour&compare_indicators=545,544)\n",
    "        - [OMIE. Energía diaria por fuente de generación](https://www.omie.es/es/market-results/monthly/daily-market/daily-power?scope=monthly&year=2022&month=4)\n",
    "        - [OMIE. Precio horario del día](https://www.omie.es/es/market-results/daily/daily-market/daily-hourly-price?scope=daily&date=2022-04-01)\n",
    "        - [OMIE. Tecnologías que marcan el precio de cierre](https://www.omie.es/es/market-results/monthly/daily-market/marginal-price-technologies?scope=monthly&year=2022&month=4)\n",
    "\n",
    "\n",
    "![alt text](Captura2.PNG \"Ejemplo\")\n",
    "\n",
    "\n",
    "- **Estudio sobre construcciones sostenibles, orientadas al estándar Passivhaus.**\n",
    "    - No ha sido posible descargar los datos, ya que, aunque están disponibles en la web es imposible descargarlos de manera agregada en un archivo. Se necesitaría realizar un scripting por ejemplo para lograr los datos.\n",
    "    - El dataset hubiese presentado tanto datos categóricos, como cuantitativos.\n",
    "    - Fuente: [Passive House DB](https://passivehouse-database.org/index.php?lang=en#k_)\n",
    "\n",
    "\n",
    "![alt text](Captura.PNG \"Ejemplo\")\n",
    "\n",
    "Finalmente, ante el hecho de no encontrar datos de los temas de mayor interés, he podido encontrar en Kaggle un dataset que recoge datos de diferentes restaurantes europeos de la web Tripadvisor. Una de mis aficiones es la gastronomía, tanto cocinando yo, como yendo a probar sitios nuevos.\n",
    "\n",
    "- **Análisis de las valoraciones de restaurantes en TripAdvisor.**\n",
    "    - Este dataset puede ayudar a:\n",
    "        - Detectar locales nuevos.\n",
    "        - Qué es lo que más valoran los clientes de un restaurante?\n",
    "        - Mejores lugares a los que viajar para hacer turismo gastrónomico.\n",
    "        - En base a los requisitos de un perfil de cliente definido, analizar cuales son las variables que tienen más peso a la hora de calificar un restaurante para guiar la selección del lugar dónde comer/cenar.\n",
    "    - Fuente: [Kaggle](https://www.kaggle.com/datasets/stefanoleone992/tripadvisor-european-restaurants)\n",
    "\n",
    "\n",
    "![alt text](Captura3.PNG \"Ejemplo\")"
   ]
  },
  {
   "cell_type": "markdown",
   "id": "174c03f0",
   "metadata": {},
   "source": [
    "## 2. La relevancia del conjunto de datos en su contexto. ¿Son datos actuales? ¿Tratan un tema importante por algún colectivo concreto? ¿Se ha tenido en cuenta la perspectiva de género? [10%]\n",
    "\n",
    "\n",
    "Si nos fijamos en lo que se indica en Kaggle, los datos proceden de la web tripadvisor.com y fueron obtenidos mediante scraping a principios de mayo de 2021. Así, **se tratan de datos actuales**.\n",
    "\n",
    "En este caso, **el dataset no trata ningún tema que se pueda considerar de interés para la sociedad**; están enfocados a una actividad de ocio. _Podría ser la base de una herramienta útil para algún colectivo profesional como chefs o propietarios de restaurante_.\n",
    "\n",
    "**El dataset no cuenta con datos que permitan aplicar la perspectiva de género, por ejemplo no clasifica a l@s propietari@s/chefs por su género**. De tener esta clase de datos podría ser de interés comprobar si las valoraciones son más o menos críticas según su diana sea hombre o mujer.\n"
   ]
  },
  {
   "cell_type": "markdown",
   "id": "364b7f46",
   "metadata": {},
   "source": [
    "## 3. La complejidad (medida, variables disponibles, tipos de datos, etc.). ¿Tiene del orden de centenares o miles de registros? ¿Tiene del orden de decenas de variables? ¿Combina datos categóricos y cuantitativos? ¿Incluye otros tipos de datos? Evitad los conjuntos excesivamente simples. [25%]"
   ]
  },
  {
   "cell_type": "code",
   "execution_count": 4,
   "id": "dd996548",
   "metadata": {},
   "outputs": [
    {
     "name": "stderr",
     "output_type": "stream",
     "text": [
      "P:\\Users\\pablo\\anaconda3\\lib\\site-packages\\IPython\\core\\interactiveshell.py:3444: DtypeWarning: Columns (4) have mixed types.Specify dtype option on import or set low_memory=False.\n",
      "  exec(code_obj, self.user_global_ns, self.user_ns)\n"
     ]
    }
   ],
   "source": [
    "# lectura datos\n",
    "dataset=pd.read_csv(\"C:/Users/pablo/Desktop/VISUALIZACIONPRAC2/tripadvisor_european_restaurants.csv\")"
   ]
  },
  {
   "cell_type": "code",
   "execution_count": 5,
   "id": "c0ca95e2",
   "metadata": {},
   "outputs": [
    {
     "data": {
      "text/plain": [
       "(1083397, 42)"
      ]
     },
     "execution_count": 5,
     "metadata": {},
     "output_type": "execute_result"
    }
   ],
   "source": [
    "# dimensiones\n",
    "dataset.shape"
   ]
  },
  {
   "cell_type": "markdown",
   "id": "b1ba054b",
   "metadata": {},
   "source": [
    "El dataset presenta 1.083.397 registros y 42 variables. Las variables que recoge son las siguientes:"
   ]
  },
  {
   "cell_type": "markdown",
   "id": "c736d2c4",
   "metadata": {},
   "source": [
    "| Variable | Tipo | Descripción |\n",
    "| --- | --- | --- |\n",
    "| **restaurant_link** | String (Cualitativa) | Identificador único de cada registro, se corresponde a la referencia en el link de la web |\n",
    "| **restaurant_name** | String | Nombre del restaurante |\n",
    "| **original_location** | Matriz de strings | Ubicación del restaurante por [país, región, ciudad] |\n",
    "| **country** | String (Cualitativa) | País en el que se ubica el restaurante |\n",
    "| **region** | String (Cualitativa) | Región en la que se ubica el restaurante |\n",
    "| **province** | String (Cualitativa) | Provinica en la que se ubica el restaurante |\n",
    "| **city** | String (Cualitativa) | Ciudad en la que se ubica el restaurante |\n",
    "| **address** | String | Dirección del restaurante |\n",
    "| **latitude** | Double (Cuantitativa) | Coordenadas de latitud del restaurante |\n",
    "| **longitude** | Double (Cuantitativa) | Coordenandas de longitud del restaurante |\n",
    "| **claimed** | String (Cualitativa dicotómica) | Está la cuenta reclamada por el restaurante? |\n",
    "| **awards** | String (Cualitativa) | Lista de premios (separadas por coma) |\n",
    "| **popularity_detailed** | String | Puesto que ocupa entre los restaurantes de la zona |\n",
    "| **popularity_generic** | String | Puesto que ocupa entre los lugares de la zona |\n",
    "| **top_tags** | String | Lista de tags en los que destaca |\n",
    "| **price_level** | String (Cualitativa) | Rango de precios en € (símbolos)|\n",
    "| **price_range** | String (Cualitativa) | Rango de precios en € (cantidades)|\n",
    "| **meals** | String | Lista de tipos de comidas |\n",
    "| **cuisines** | String (Cualitativa) | Tipo de cocina |\n",
    "| **special_diets** | String (Cualitativa) | Tipo de dietas especiales |\n",
    "| **features** | String (Cualitativa) | Características del restaurante |\n",
    "| **vegetarian_friendly** | Boolean (Cualitativa dicotómica) | Apto para vegetarianos?|\n",
    "| **vegan_options** | Boolean (Cualitativa dicotómica) | Apto para veganos? |\n",
    "| **gluten_free** |  Boolean (Cualitativa dicotómica) | Apto para celíacos? |\n",
    "| **original_open_hours** | Diccionario |Horario del restaurante |\n",
    "| **open_days_per_week** | Integer (Cuantitativa) | Número de días abierto por semana |\n",
    "| **open_hours_per_week** | Integer (Cuantitativa) | Número de horas abierto por semana |\n",
    "| **working_shifts_per_week** | Integer (Cuantitativa) | Número de turnos abierto por semana |\n",
    "| **avg_rating** | Double (Cuantitativa) | Valoración media del restaurante |\n",
    "| **total_reviews_count** | Integer (Cuantitativa) | Número de reseñas del restaurante |\n",
    "| **default_language** | String (Cualitativa) | Idioma por defecto |\n",
    "| **reviews_count_in_default_language** | String (Cualitativa) | Número de reseñas del restaurante en el idioma por defecto |\n",
    "| **excellent** | Integer (Cuantitativa) | Número de reseñas excelentes del restaurante |\n",
    "| **very_good** | Integer (Cuantitativa) | Número de reseñas muy buenas del restaurante |\n",
    "| **average** | Integer (Cuantitativa) | Número de reseñas normales del restaurante |\n",
    "| **poor** | Integer (Cuantitativa) | Número de reseñas malas del restaurante |\n",
    "| **terrible** | Integer (Cuantitativa) | Número de reseñas terribles del restaurante |\n",
    "| **food** | Double (Cuantitativa) | Valoración media de la comida del restaurante |\n",
    "| **service** | Double (Cuantitativa) | Valoración media del servicio del restaurante |\n",
    "| **value** | Double (Cuantitativa) | Valoración media del valor del restaurante |\n",
    "| **atmosphere** | Double (Cuantitativa) | Valoración media de la atmósfera del restaurante |\n",
    "| **keywords** | String | Lista de palabras clave populares |"
   ]
  },
  {
   "cell_type": "markdown",
   "id": "877c2068",
   "metadata": {},
   "source": [
    "A partir del dataset, se proponen los siguientes filtros para desarrollar la práctica:\n",
    "-\tdatos de restaurantes pertenecientes a España.\n",
    "-\trestaurantes cuya cuenta está gestionada por su dueño (“Claimed”).\n",
    "-\ty con al menos un número de reseñas significativo (se ha impuesto un umbral de 320 para ajustarse al rango de filas dado, menos de 10.000).\n"
   ]
  },
  {
   "cell_type": "code",
   "execution_count": 6,
   "id": "53afdf21",
   "metadata": {},
   "outputs": [
    {
     "name": "stdout",
     "output_type": "stream",
     "text": [
      "Registros en España: (157479, 42)\n",
      "Registros en España que hayan sido reclamados: (69099, 42)\n",
      "Registros en España que hayan sido reclamados con un mínimo de reseñas: (9762, 42)\n"
     ]
    }
   ],
   "source": [
    "#FILTRADO\n",
    "#solo datos españa\n",
    "dataset=dataset[dataset[\"country\"]==\"Spain\"]\n",
    "print(\"Registros en España: {}\".format(dataset.shape))\n",
    "#que hayan sido reclamados\n",
    "dataset=dataset[dataset[\"claimed\"]==\"Claimed\"]\n",
    "print(\"Registros en España que hayan sido reclamados: {}\".format(dataset.shape))\n",
    "#con al menos XX reseñas\n",
    "dataset=dataset[dataset[\"total_reviews_count\"]>=320]\n",
    "print(\"Registros en España que hayan sido reclamados con un mínimo de reseñas: {}\".format(dataset.shape))"
   ]
  },
  {
   "cell_type": "markdown",
   "id": "6761a503",
   "metadata": {},
   "source": [
    "Antes de recortar las columnas del dataset, analizamos cuantos valores nulos hay para cada variable."
   ]
  },
  {
   "cell_type": "code",
   "execution_count": 7,
   "id": "537cb43b",
   "metadata": {
    "scrolled": false
   },
   "outputs": [
    {
     "data": {
      "text/plain": [
       "restaurant_link                         0\n",
       "restaurant_name                         0\n",
       "original_location                       0\n",
       "country                                 0\n",
       "region                                  0\n",
       "province                             1550\n",
       "city                                 5779\n",
       "address                                 0\n",
       "latitude                                6\n",
       "longitude                               6\n",
       "claimed                                 0\n",
       "awards                               1327\n",
       "popularity_detailed                     0\n",
       "popularity_generic                      4\n",
       "top_tags                                1\n",
       "price_level                            13\n",
       "price_range                          4512\n",
       "meals                                4322\n",
       "cuisines                              304\n",
       "special_diets                         933\n",
       "features                             7788\n",
       "vegetarian_friendly                     0\n",
       "vegan_options                           0\n",
       "gluten_free                             0\n",
       "original_open_hours                   660\n",
       "open_days_per_week                    660\n",
       "open_hours_per_week                   660\n",
       "working_shifts_per_week               660\n",
       "avg_rating                              0\n",
       "total_reviews_count                     0\n",
       "default_language                        0\n",
       "reviews_count_in_default_language       0\n",
       "excellent                               0\n",
       "very_good                               0\n",
       "average                                 0\n",
       "poor                                    0\n",
       "terrible                                0\n",
       "food                                    0\n",
       "service                                 0\n",
       "value                                   0\n",
       "atmosphere                           2082\n",
       "keywords                             5370\n",
       "dtype: int64"
      ]
     },
     "execution_count": 7,
     "metadata": {},
     "output_type": "execute_result"
    }
   ],
   "source": [
    "#comprobamos valores nulos\n",
    "dataset.isna().sum()"
   ]
  },
  {
   "cell_type": "markdown",
   "id": "85315190",
   "metadata": {},
   "source": [
    "Existen algunas variables que presentan más valores nulos que valores válidos. Estas serán descartadas de partida; junto con algunas otras. Así, eliminaremos:\n",
    "\n",
    "- original_location, por haber sido desglosado en otras variables.\n",
    "- country, una vez hecho el filtrado se puede descartar.\n",
    "- city, por el alto número de valores na.\n",
    "- address, no vamos a llegar nunca en esta práctica a un análisis por calle.\n",
    "- claimed, una vez hecho el filtrado se puede descartar.\n",
    "- popularity_generic, no tiene sentido comparar con lugares que no sean restaurantes.\n",
    "- price_range, por el número de valores na.\n",
    "- meals, por el número de valores na. Sino podría ser interesante para filtrar restaurantes \"puros\" de locales que ofrecen todo tipo de servicios.\n",
    "- special_diets, las de interés ya tienen sus propios apartados.\n",
    "- features, por el alto número de valores na.\n",
    "- original_open_hours, tiene apartados desarrollados que son más interesantes.\n",
    "- default_language, no se tendrá en cuenta el idioma porque está relacionado con el scraping, no con el servicio que ofrece el restaurante.\n",
    "- reviews_count_in_default_language, en línea con lo anterior.\n",
    "- keywords, por el alto número de valores na. Sino podría ser de interés.\n",
    "\n",
    "Disponemos de una jerarquía, de partida era país -> región -> provincia -> ciudad, sin embargo entre que ya se parte de un solo país y que se ha eliminado la variable _city_, nos quedamos con solo dos niveles. Se ha comprobado por medio del siguiente código que la jerarquía de localización no tiene un número de elementos fijo lo que dificulta la comparación entre restaurantes.\n",
    "\n",
    "<code>tamaño=[]\n",
    "for i in dataset[\"original_location\"]:\n",
    "    tamaño.append(len(i.split(\",\")))\n",
    "print(set(tamaño))\n",
    "</code>"
   ]
  },
  {
   "cell_type": "code",
   "execution_count": 8,
   "id": "aa8f4d48",
   "metadata": {},
   "outputs": [
    {
     "name": "stdout",
     "output_type": "stream",
     "text": [
      "Registros tras la limpieza: (9762, 28)\n"
     ]
    }
   ],
   "source": [
    "#eliminacion de columnas\n",
    "dataset=dataset.drop(['original_location', 'country','city','address','claimed','popularity_generic','price_range', 'meals','special_diets',\n",
    "                     'features','original_open_hours','default_language','reviews_count_in_default_language','keywords'], axis = 1)\n",
    "print(\"Registros tras la limpieza: {}\".format(dataset.shape))"
   ]
  },
  {
   "cell_type": "markdown",
   "id": "9e028823",
   "metadata": {},
   "source": [
    "Se vuelve a comprobar el número de valores nulos:"
   ]
  },
  {
   "cell_type": "code",
   "execution_count": 9,
   "id": "22ff4e04",
   "metadata": {},
   "outputs": [
    {
     "data": {
      "text/plain": [
       "restaurant_link               0\n",
       "restaurant_name               0\n",
       "region                        0\n",
       "province                   1550\n",
       "latitude                      6\n",
       "longitude                     6\n",
       "awards                     1327\n",
       "popularity_detailed           0\n",
       "top_tags                      1\n",
       "price_level                  13\n",
       "cuisines                    304\n",
       "vegetarian_friendly           0\n",
       "vegan_options                 0\n",
       "gluten_free                   0\n",
       "open_days_per_week          660\n",
       "open_hours_per_week         660\n",
       "working_shifts_per_week     660\n",
       "avg_rating                    0\n",
       "total_reviews_count           0\n",
       "excellent                     0\n",
       "very_good                     0\n",
       "average                       0\n",
       "poor                          0\n",
       "terrible                      0\n",
       "food                          0\n",
       "service                       0\n",
       "value                         0\n",
       "atmosphere                 2082\n",
       "dtype: int64"
      ]
     },
     "execution_count": 9,
     "metadata": {},
     "output_type": "execute_result"
    }
   ],
   "source": [
    "#comprobamos valores nulos\n",
    "dataset.isna().sum()"
   ]
  },
  {
   "cell_type": "code",
   "execution_count": 10,
   "id": "f5de99a0",
   "metadata": {},
   "outputs": [
    {
     "name": "stdout",
     "output_type": "stream",
     "text": [
      "Registros tras la limpieza: (5114, 28)\n"
     ]
    }
   ],
   "source": [
    "dataset=dataset.dropna()\n",
    "print(\"Registros tras la limpieza: {}\".format(dataset.shape))"
   ]
  },
  {
   "cell_type": "markdown",
   "id": "4ee42c3d",
   "metadata": {},
   "source": [
    "Los valores con NaN se han eliminado porque realizar un proceso de arreglo del dataset variable a variable no se corresponde al objetivo de la práctica y por el tipo de variables resultaría bastante complicado, si no imposible.\n",
    "\n",
    "Se queda con un dataset mucho más pequeño en comparación con el de partida, sin embargo este presenta unas dimensiones adecuadas para el objetivo propuesto que nos permitirán ofrecer mucho juego en las visualizaciones a desarrollar como parte de la segunda parte de la práctica de la asignatura."
   ]
  },
  {
   "cell_type": "markdown",
   "id": "68925074",
   "metadata": {},
   "source": [
    "## 4. La originalidad. No repetid los conjuntos de datos clásicos. Podéis, por ejemplo, combinar o mejorar visualizaciones existentes. ¿Hay otras visualizaciones basadas en este conjunto de datos? ¿Es una evolución o actualización de un conjunto anterior? ¿Habéis enriquecido un conjunto de datos ya existente? [25%]"
   ]
  },
  {
   "cell_type": "markdown",
   "id": "172addf4",
   "metadata": {},
   "source": [
    "El usuario que ha publicado el dataset, también ha realizado un [análisis EDA](https://www.kaggle.com/code/stefanoleone992/tripadvisor-european-restaurants-eda). \n",
    "\n",
    "\n",
    "**La idea es hacer visualizaciones originales, ni combinaciones, ni mejoras de otras preexistentes**; se analizarán los trabajos previos para identificar los pros y contras de los datos y de los tipos de gráficos empleados de cara a realizar las mejores visualizaciones posibles durante la segunda entrega de la presente práctica. \n",
    "\n",
    "Por tratarse de datos procedentes de un web scraping, **el dataset es original y no parece haber sido sometido a ninguna actualización**.\n",
    "\n",
    "En Kaggle, el usuario indica que el dataset está sometido a una licencia CC0: Public Domain, por lo que se podría emplear para cualquier uso. Si vamos a la fuente original de los datos, en la web se indica que su contenido, y por tanto todos los datos de la web, estaría sujeto a Copyright (© 2022 TripAdvisor LLC Todos los derechos reservados).\n",
    "\n",
    "Para enriquecer el dataset, se plantea la posibilidad de modificar variables para que sean más útiles de cara a un análisis o una comparación. Por ejemplo:\n",
    "\n",
    "1. **popularity_detailed**: Convertir el texto a un índice que nos indique la popularidad en tanto por uno del restaurante, siendo 1 el más popular y 0 el que menos.\n",
    "2. **top_tags**: Convertir la lista de tags a un índice que indique si presenta los más frecuentes.\n",
    "\n",
    "<code>from collections import Counter\n",
    "topT=[]\n",
    "for i in dataset[\"top_tags\"]:\n",
    "    for j in i.split(\",\"):\n",
    "        topT.append(j.strip())\n",
    "print(\"Número de tags únicos: {}\".format(len(set(topT))))     \n",
    "c = Counter(a)\n",
    "print(Counter(topT).most_common(10))\n",
    "</code>\n"
   ]
  },
  {
   "cell_type": "markdown",
   "id": "a45ad2ca",
   "metadata": {},
   "source": [
    "## 5. Las cuestiones que responderéis con la visualización de datos, ¿Tienen en cuenta los puntos anteriores? ¿Están bien  planteadas? ¿Son adecuadas por el conjunto de datos elegido? [30%]\n",
    "\n",
    "\n",
    "Se plantean las siguientes preguntas que se consideran bien planteadas y que se les puede dar respuesta en base a los datos disponibles:\n",
    "\n",
    "- Distribución de valoración media, % de valoraciones con mayor puntuación (excelente), % de más caros, etc. por regiones.\n",
    "- Es cantidad de reseñas sinónimo de calidad?\n",
    "- Los vegetarianos tienen mejores o peores reseñas de media?\n",
    "- Que puntuaciones tiene mayor peso sobre la valoración general (food, service, value o atphosmere)?\n",
    "- Que características parecen ser significativas de cara a una mayor valoración (vegetariano, top_tags, etc.)?\n",
    "- Existe relación entre el servicio ofrecido y el horario del personal (open_days, open_hours, working_shifts)?\n",
    "\n",
    "Además se cree que la respuesta a estas preguntas se puede ofrece de manera clara y sencilla por medio de técnicas de visualización.\n",
    "\n",
    "Mucha gente, sobre todo de mayor edad, cree que las valoraciones en este tipo de webs son en su mayoría falsas o que la gente siempre prioriza los lugares más baratos. Es esto así?\n",
    "\n",
    "Esta pregunta no se puede responde ya que no disponemos de los datos de cada una de las reseñas. De tener estos datos, es probable que mediante técnicas de procesamiento del lenguaje natural se supiese que reseñas son buenas y cuales son malas para ver cuales tienen más peso sobre la valoración media del local, o para identificar tendencias (una vez que empieza a tecibir críticas malas no se da detenido la tendencia negativa), detectar críticas falsas vs verdaderas, etc.\n"
   ]
  },
  {
   "cell_type": "code",
   "execution_count": 11,
   "id": "f5c427c6",
   "metadata": {},
   "outputs": [],
   "source": [
    "#dataset.to_excel(\"A.xlsx\", index=False)"
   ]
  },
  {
   "cell_type": "markdown",
   "id": "02c7beb7",
   "metadata": {},
   "source": [
    "## ANEXO. Análisis extras para la Práctica 2"
   ]
  },
  {
   "cell_type": "code",
   "execution_count": 12,
   "id": "eeac5cee",
   "metadata": {},
   "outputs": [
    {
     "name": "stdout",
     "output_type": "stream",
     "text": [
      "Número de tags únicos: 110\n",
      "[('Mid-range', 4216), ('Mediterranean', 3634), ('European', 2789), ('Spanish', 2312), ('Vegetarian Friendly', 777), ('Seafood', 745), ('International', 515), ('Bar', 514), ('Italian', 499), ('Fine Dining', 475)]\n"
     ]
    }
   ],
   "source": [
    "from collections import Counter\n",
    "topT=[]\n",
    "for i in dataset[\"top_tags\"]:\n",
    "    for j in i.split(\",\"):\n",
    "        topT.append(j.strip())\n",
    "print(\"Número de tags únicos: {}\".format(len(set(topT))))\n",
    "print(Counter(topT).most_common(10))"
   ]
  },
  {
   "cell_type": "code",
   "execution_count": 13,
   "id": "16d6fa14",
   "metadata": {},
   "outputs": [],
   "source": [
    "BG=[]\n",
    "MS=[]\n",
    "for fila in dataset[\"awards\"]:\n",
    "    MSp=0\n",
    "    BGp=0\n",
    "    for premio in fila.split(\",\"):\n",
    "        if \"Michelin Star\" in premio:\n",
    "            MSp=1\n",
    "        if \"Bib Gourmand\" in premio:\n",
    "            BGp=1\n",
    "    MS.append(MSp)\n",
    "    BG.append(BGp)\n",
    "dataset[\"Bib Gourmand\"]=BG\n",
    "dataset[\"Estrella Michelin\"]=MS   "
   ]
  },
  {
   "cell_type": "code",
   "execution_count": 15,
   "id": "8c2b3f32",
   "metadata": {},
   "outputs": [],
   "source": [
    "dataset.to_excel(\"Dataset.xlsx\", index=False)"
   ]
  }
 ],
 "metadata": {
  "kernelspec": {
   "display_name": "Python 3 (ipykernel)",
   "language": "python",
   "name": "python3"
  },
  "language_info": {
   "codemirror_mode": {
    "name": "ipython",
    "version": 3
   },
   "file_extension": ".py",
   "mimetype": "text/x-python",
   "name": "python",
   "nbconvert_exporter": "python",
   "pygments_lexer": "ipython3",
   "version": "3.9.7"
  }
 },
 "nbformat": 4,
 "nbformat_minor": 5
}
